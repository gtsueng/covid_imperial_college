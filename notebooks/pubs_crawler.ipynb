{
 "cells": [
  {
   "cell_type": "markdown",
   "metadata": {},
   "source": [
    "## Spiral Report crawler\n",
    "\n",
    "Imperial College London has an open access repository, called Spiral. \n",
    "Spiral hosts the reports with more of the metadata exposed than is exposed in the public website access for the reports. Trying to pull the metadata from the public website links requires multiple pages with multiple levels of parsing. For the reports, it's easier to use the data pulled from spiral"
   ]
  },
  {
   "cell_type": "code",
   "execution_count": 12,
   "metadata": {},
   "outputs": [],
   "source": [
    "import requests\n",
    "from bs4 import BeautifulSoup\n",
    "import json\n",
    "from datetime import datetime"
   ]
  },
  {
   "cell_type": "markdown",
   "metadata": {},
   "source": [
    "Create the Curation Object (ie- the curatedBy object)"
   ]
  },
  {
   "cell_type": "code",
   "execution_count": 13,
   "metadata": {},
   "outputs": [],
   "source": [
    "def create_curationObject():\n",
    "    now = datetime.now()\n",
    "    curatedBy = {\n",
    "    \"@type\": \"Organization\",\n",
    "    'identifier': 'imperialcollege',\n",
    "    'url': 'http://www.imperial.ac.uk/mrc-global-infectious-disease-analysis/covid-19/covid-19-reports/',\n",
    "    \"name\": \"MRC Centre for Global Infectious Disease Analysis\",\n",
    "    \"affiliation\": [\"Imperial College London\"],\n",
    "    \"curationDate\":now.strftime(\"%Y-%m-%d\")\n",
    "    }    \n",
    "    return(curatedBy)"
   ]
  },
  {
   "cell_type": "markdown",
   "metadata": {},
   "source": [
    "Query Spiral for COVID-19 reports and parse the result into a list of urls of the individual report pages"
   ]
  },
  {
   "cell_type": "code",
   "execution_count": 14,
   "metadata": {},
   "outputs": [],
   "source": [
    "def get_report_links(reports_url):\n",
    "    recordlist = requests.get(reports_url)\n",
    "    spiralbase = \"https://spiral.imperial.ac.uk:8443/\"\n",
    "    parsedrecordlist = BeautifulSoup(recordlist.text, \"html.parser\")\n",
    "    urlstable = parsedrecordlist.findAll(\"table\")[0]\n",
    "    urlstublist = urlstable.findAll(\"a\")\n",
    "    url_list = []\n",
    "    for eachlink in urlstublist:\n",
    "        tmpurl = spiralbase+eachlink.get(\"href\")\n",
    "        url_list.append(tmpurl)\n",
    "    return(url_list)"
   ]
  },
  {
   "cell_type": "markdown",
   "metadata": {},
   "source": [
    "Since we're dealing with html files, create a function to get content for a specific tag"
   ]
  },
  {
   "cell_type": "code",
   "execution_count": 15,
   "metadata": {},
   "outputs": [],
   "source": [
    "def get_meta_content(metacontentfield):\n",
    "    if len(metacontentfield) == 1:\n",
    "        metacontentlist = metacontentfield[0].get(\"content\")\n",
    "    else:\n",
    "        metacontentlist = []\n",
    "        for eachitem in metacontentfield:\n",
    "            metaitem = eachitem.get(\"content\")\n",
    "            metacontentlist.append(metaitem)\n",
    "    return(metacontentlist)   "
   ]
  },
  {
   "cell_type": "markdown",
   "metadata": {},
   "source": [
    "Pull content from the appropriate meta data tags and format it"
   ]
  },
  {
   "cell_type": "code",
   "execution_count": 27,
   "metadata": {},
   "outputs": [],
   "source": [
    "def transform_pub_meta(soupobject):\n",
    "    urlfield = soupobject.findAll(\"meta\", {\"name\":\"citation_pdf_url\"})\n",
    "    url = get_meta_content(urlfield)\n",
    "    titlefield = soupobject.findAll(\"meta\", {\"name\":\"citation_title\"})\n",
    "    title = get_meta_content(titlefield)\n",
    "    datePublishedfield = soupobject.findAll(\"meta\", {\"name\":\"citation_date\"})\n",
    "    datePublished = get_meta_content(datePublishedfield)\n",
    "    abstractfield = soupobject.findAll(\"meta\", {\"name\":\"DCTERMS.abstract\"})\n",
    "    abstract = get_meta_content(abstractfield)\n",
    "    defaultidurlfield = soupobject.findAll(\"meta\", {\"scheme\":\"DCTERMS.URI\"})\n",
    "    defaultid = get_meta_content(defaultidurlfield)\n",
    "    tmpdict = {\n",
    "        \"@context\": {\n",
    "        \"schema\": \"http://schema.org/\",\n",
    "        \"outbreak\": \"https://discovery.biothings.io/view/outbreak/\"\n",
    "        },\n",
    "        \"@type\": \"Publication\",\n",
    "        \"journalName\": \"Imperial College London\",\n",
    "        \"journalNameAbbreviation\": \"imperialcollege\",\n",
    "        \"publicationType\": \"Report\", \n",
    "        \"abstract\":abstract,\n",
    "        \"name\":title,\n",
    "        \"datePublished\":datePublished,\n",
    "        \"url\":url,\n",
    "        \"identifier\":defaultid\n",
    "    }\n",
    "    keywordsfield = soupobject.findAll(\"meta\", {\"name\":\"DC.subject\"})\n",
    "    if len(keywordsfield)>0:\n",
    "        keywordsobject = get_meta_content(keywordsfield)\n",
    "        tmpdict[\"keywords\"] = keywordsobject\n",
    "\n",
    "    licensefield = soupobject.findAll(\"meta\", {\"name\":\"DC.rights\"})\n",
    "    if len(licensefield)>0:\n",
    "        license = get_meta_content(licensefield)\n",
    "        tmpdict[\"license\"] = license\n",
    "        \n",
    "    identifiersfield = soupobject.findAll(\"meta\", {\"name\":\"DC.identifier\"})\n",
    "    for eachitem in identifiersfield:\n",
    "        eachitemcontent = eachitem.get(\"content\")\n",
    "        if \"doi\" in eachitemcontent:\n",
    "            doi = eachitemcontent.replace(\"https://doi.org/\",\"\")\n",
    "            tmpdict[\"identifier\"] = \"icl_\"+doi.split('/', 1)[-1]\n",
    "            tmpdict[\"doi\"] = doi\n",
    "        elif \"10.\" in eachitemcontent:\n",
    "            doi = eachitemcontent\n",
    "            tmpdict[\"identifier\"] = \"icl_\"+doi.split('/', 1)[-1]\n",
    "            tmpdict[\"doi\"] = doi\n",
    "    tmpdict['_id'] = tmpdict[\"identifier\"]\n",
    "    return(tmpdict)"
   ]
  },
  {
   "cell_type": "markdown",
   "metadata": {},
   "source": [
    "Get the Author information"
   ]
  },
  {
   "cell_type": "code",
   "execution_count": 17,
   "metadata": {},
   "outputs": [],
   "source": [
    "def get_authors(soupobject):\n",
    "    authorsfield = soupobject.findAll(\"meta\", {\"name\":\"citation_author\"})\n",
    "    authors = get_meta_content(authorsfield)\n",
    "    authorlist = []\n",
    "    for eachauthor in authors:\n",
    "        authparse = eachauthor.split(\",\")\n",
    "        if (len(authparse) == 2) and len(authparse[1])<3:\n",
    "            authdict = {'@type': 'outbreak:Person', 'affiliation': [], 'name': eachauthor, \n",
    "                       'familyName':authparse[0]}\n",
    "        else:\n",
    "            authdict = {'@type': 'outbreak:Person', 'affiliation': [], 'name': eachauthor}\n",
    "        authorlist.append(authdict)\n",
    "    return(authorlist)"
   ]
  },
  {
   "cell_type": "markdown",
   "metadata": {},
   "source": [
    "Get the funding information"
   ]
  },
  {
   "cell_type": "code",
   "execution_count": 18,
   "metadata": {},
   "outputs": [],
   "source": [
    "def get_funding(soupobject):\n",
    "    fundersfield = soupobject.findAll(\"meta\", {\"name\":\"DC.contributor\"})\n",
    "    funders = get_meta_content(fundersfield)\n",
    "    fundercheck = len(fundersfield)\n",
    "    if fundercheck > 0:\n",
    "        identifiersfield = soupobject.findAll(\"meta\", {\"name\":\"DC.identifier\"}) \n",
    "        fundidlist = []\n",
    "        for eachitem in identifiersfield:\n",
    "            eachitemcontent = eachitem.get(\"content\")\n",
    "            if \"https:\" in eachitemcontent:\n",
    "                miscurls = eachitemcontent\n",
    "            else:\n",
    "                fundingid = eachitemcontent\n",
    "                fundidlist.append(fundingid)\n",
    "        fundlist = []\n",
    "        i=0\n",
    "        while i < len(funders):\n",
    "            fundict = {\"@type\": \"MonetaryGrant\",\n",
    "                       \"funder\": {\n",
    "                       \"name\": funders[i]\n",
    "                       },\n",
    "                      \"identifier\": fundidlist[i],\n",
    "                      \"name\": \"\"\n",
    "            }\n",
    "            fundlist.append(fundict)\n",
    "        fundflag = True\n",
    "    else:\n",
    "        fundlist = []\n",
    "        fundflag = False\n",
    "    return(fundlist, fundflag)"
   ]
  },
  {
   "cell_type": "markdown",
   "metadata": {},
   "source": [
    "## Main"
   ]
  },
  {
   "cell_type": "code",
   "execution_count": 19,
   "metadata": {},
   "outputs": [
    {
     "name": "stdout",
     "output_type": "stream",
     "text": [
      "{'@type': 'Organization', 'identifier': 'imperialcollege', 'url': 'http://www.imperial.ac.uk/mrc-global-infectious-disease-analysis/covid-19/covid-19-reports/', 'name': 'MRC Centre for Global Infectious Disease Analysis', 'affiliation': ['Imperial College London'], 'curationDate': '2020-06-25'}\n"
     ]
    }
   ],
   "source": [
    "reports_url = 'https://spiral.imperial.ac.uk:8443/handle/10044/1/78555/simple-search?location=10044%2F1%2F78555&query=&filter_field_1=type&filter_type_1=equals&filter_value_1=Report&rpp=100&sort_by=score&order=DESC&etal=1&submit_search=Update'\n",
    "url_list = get_report_links(reports_url)\n",
    "curatedBy = create_curationObject()\n",
    "\n",
    "## Pull the metadata from each report link and throw it into a dictionary\n",
    "for each_url in url_list[0:2]:\n",
    "    record_result = requests.get(each_url)\n",
    "    parsed_record = BeautifulSoup(record_result.text, \"html.parser\")\n",
    "    base_info = transform_pub_meta(parsed_record)\n",
    "    base_info[\"curatedBy\"] = curatedBy\n",
    "    author_list = get_authors(parsed_record)\n",
    "    fund_list, fund_flag = get_funding(parsed_record)\n",
    "    ## Create the Json\n",
    "    base_info[\"author\"] = author_list\n",
    "    if fund_flag == True:\n",
    "        base_info[\"funding\"] = fund_list\n",
    "    print(base_info)"
   ]
  },
  {
   "cell_type": "code",
   "execution_count": null,
   "metadata": {},
   "outputs": [],
   "source": []
  }
 ],
 "metadata": {
  "kernelspec": {
   "display_name": "Python 3",
   "language": "python",
   "name": "python3"
  },
  "language_info": {
   "codemirror_mode": {
    "name": "ipython",
    "version": 3
   },
   "file_extension": ".py",
   "mimetype": "text/x-python",
   "name": "python",
   "nbconvert_exporter": "python",
   "pygments_lexer": "ipython3",
   "version": "3.6.10"
  }
 },
 "nbformat": 4,
 "nbformat_minor": 2
}
