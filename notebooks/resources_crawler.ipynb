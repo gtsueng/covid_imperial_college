{
 "cells": [
  {
   "cell_type": "markdown",
   "metadata": {},
   "source": [
    "## Scraping from the Public Website\n",
    "\n",
    "Unfortunately, the resources are not as well-organized in Spiral, so scraping of the website will be needed."
   ]
  },
  {
   "cell_type": "code",
   "execution_count": 14,
   "metadata": {},
   "outputs": [],
   "source": [
    "import requests\n",
    "from bs4 import BeautifulSoup\n",
    "import json\n",
    "from datetime import datetime\n",
    "import re"
   ]
  },
  {
   "cell_type": "markdown",
   "metadata": {},
   "source": [
    "Create the 'curatedBy' object"
   ]
  },
  {
   "cell_type": "code",
   "execution_count": 15,
   "metadata": {},
   "outputs": [],
   "source": [
    "def create_curationObject():\n",
    "    now = datetime.now()\n",
    "    curatedBy = {\n",
    "    \"@type\": \"Organization\",\n",
    "    'identifier': 'imperialcollege',\n",
    "    'url': 'http://www.imperial.ac.uk/mrc-global-infectious-disease-analysis/covid-19/covid-19-scientific-resources/',\n",
    "    \"name\": \"MRC Centre for Global Infectious Disease Analysis\",\n",
    "    \"affiliation\": [\"Imperial College London\"],\n",
    "    \"curationDate\":now.strftime(\"%Y-%m-%d\")\n",
    "  } "
   ]
  },
  {
   "cell_type": "markdown",
   "metadata": {},
   "source": [
    "Unfortunately, items appearing in the resource list do not necessarily have any sort of identifier available. Create an identifier for the resource by creating an abbreviation from the description, to ensure uniqueness of the entry."
   ]
  },
  {
   "cell_type": "code",
   "execution_count": 35,
   "metadata": {},
   "outputs": [],
   "source": [
    "def create_id(description_text):\n",
    "    words = description_text.lower().split()\n",
    "    letters = [word[0] for word in words]\n",
    "    identifier = \"icl_\"+\"\".join(e for e in letters if e.isalnum())\n",
    "    return(identifier)"
   ]
  },
  {
   "cell_type": "markdown",
   "metadata": {},
   "source": [
    "Parse the available content into metadata depending on the type of the resource. Use specific keywords to identify the type of the resource."
   ]
  },
  {
   "cell_type": "code",
   "execution_count": 1,
   "metadata": {},
   "outputs": [],
   "source": [
    "def transform_resource_meta(metaobject):\n",
    "    tmpdict = {\n",
    "      \"@context\": {\n",
    "        \"schema\": \"http://schema.org/\",\n",
    "        \"outbreak\": \"https://discovery.biothings.io/view/outbreak/\"\n",
    "      },\n",
    "      \"author\": {\n",
    "        \"@type\": \"Organization\",\n",
    "        \"name\": 'Imperial College COVID-19 Response Team',\n",
    "        \"affiliation\": [\"MRC Centre for Global Infectious Disease Analysis\",\n",
    "                        \"Imperial College London\"]\n",
    "      }\n",
    "    }\n",
    "    tmpdict['name'] = metaobject.find(\"h3\",{\"class\":\"title\"}).get_text()\n",
    "    tmpdict['description'] = metaobject.find(\"p\").get_text()\n",
    "    tmpdict['identifier'] = create_id(tmpdict['description'])\n",
    "    tmpdict['_id'] = tmpdict['identifier']\n",
    "    basetype = metaobject.find(\"span\",{\"class\":\"link primary\"}).get_text()\n",
    "    tmpurl = metaobject.find(\"a\").get(\"href\") \n",
    "    \n",
    "    if \"http\" in tmpurl:\n",
    "        url = tmpurl\n",
    "    else:\n",
    "        url = baseurl+tmpurl\n",
    "    try:\n",
    "        basedate = re.findall(\"\\(\\d{2}\\-\\d{2}\\-\\d{4}\\)\", tmpdict['description'])[0].strip(\"(\").strip(\")\")\n",
    "        datetime_object = datetime.strptime(basedate, '%d-%m-%Y')\n",
    "        datePublished = datetime_object.strftime(\"%Y-%m-%d\")\n",
    "    except:\n",
    "        datePublished = \"Not Available\"  \n",
    "    if \"data\" in basetype:\n",
    "        tmpdict['@type'] = \"Dataset\"\n",
    "        tmpdict['dataDownload'] = {\n",
    "            \"contentUrl\": url,\n",
    "            \"dateModified\": datePublished\n",
    "        }\n",
    "        tmpdict['species']: \"Homo sapiens\"\n",
    "        tmpdict['infectiousAgent']: \"SARS-CoV-2\"\n",
    "    elif \"code\" in basetype:\n",
    "        tmpdict['@type'] = \"SoftwareSourceCode\"\n",
    "        tmpdict['downloadUrl'] = url\n",
    "        tmpdict['datePublished'] = datePublished\n",
    "    elif \"survey\" in basetype:\n",
    "        tmpdict['@type'] = \"Protocol\"\n",
    "        tmpdict['url'] = url\n",
    "        tmpdict['datePublished'] = datePublished\n",
    "        tmpdict['protocolSetting'] = \"public\"\n",
    "        tmpdict[\"protocolCategory\"] = \"protocol\"\n",
    "    if \"for \\\"Report\" in tmpdict['description']:\n",
    "        report_check = tmpdict['description'].replace(\"for \\\"Report\",\"for|Report\").split(\"|\")\n",
    "        citedByTitle = report_check[1].replace('\"','')\n",
    "        tmpdict['citedBy'] = {\"name\": citedByTitle,\n",
    "                              \"type\": \"Publication\"}\n",
    "    return(tmpdict)"
   ]
  },
  {
   "cell_type": "code",
   "execution_count": 18,
   "metadata": {},
   "outputs": [],
   "source": [
    "url = 'http://www.imperial.ac.uk/mrc-global-infectious-disease-analysis/covid-19/covid-19-scientific-resources/'\n",
    "response = requests.get(url)\n",
    "parsedlisting = BeautifulSoup(response.text, \"html.parser\")\n",
    "baseurl = \"http://www.imperial.ac.uk/\"\n",
    "resourceclass = parsedlisting.findAll(\"div\", {\"class\": \"media-item full light-secondary reverse equal-height\"})\n"
   ]
  },
  {
   "cell_type": "code",
   "execution_count": 23,
   "metadata": {},
   "outputs": [
    {
     "name": "stdout",
     "output_type": "stream",
     "text": [
      "{'@context': {'schema': 'http://schema.org/', 'outbreak': 'https://discovery.biothings.io/view/outbreak/'}, 'author': {'@type': 'Organization', 'name': 'Imperial College COVID-19 Response Team', 'affiliation': ['MRC Centre for Global Infectious Disease Analysis', 'Imperial College London']}, 'name': 'Code (Report 13)', 'description': 'Replication code (30-03-2020) for \"Report 13: Estimating the number of infections and the impact of non-pharmaceutical interventions on COVID-19 in 11 European countries\"', 'identifier': 'Riclcicl(iclficl\"icl1iclEiclticlnicloicliiclaiclticliicloiclnicliicloiclCicliicl1iclEiclc', '@type': 'SoftwareSourceCode', 'downloadUrl': 'https://github.com/ImperialCollegeLondon/covid19model/releases/tag/v1.0', 'datePublished': '2020-03-30', 'citedBy': {'name': 'Report 13: Estimating the number of infections and the impact of non-pharmaceutical interventions on COVID-19 in 11 European countries', 'type': 'Publication'}}\n"
     ]
    }
   ],
   "source": [
    "resourcelist = []\n",
    "for eachblock in resourceclass[1:2]:\n",
    "    tmpdict = transform_resource_meta(eachblock)   \n",
    "    print(tmpdict)   \n",
    "        "
   ]
  },
  {
   "cell_type": "markdown",
   "metadata": {},
   "source": [
    "## Parse the analyses\n",
    "\n",
    "Note that while MOST of the basic information can be obtained (except for the datePublished), detailed information is available but not parsable (wide variation in presentation and no discernible structure) and will require manual curation"
   ]
  },
  {
   "cell_type": "code",
   "execution_count": 36,
   "metadata": {},
   "outputs": [
    {
     "name": "stdout",
     "output_type": "stream",
     "text": [
      "{'@context': {'schema': 'http://schema.org/', 'outbreak': 'https://discovery.biothings.io/view/outbreak/'}, 'author': {'@type': 'Organization', 'name': 'Imperial College COVID-19 Response Team', 'affiliation': ['MRC Centre for Global Infectious Disease Analysis', 'Imperial College London']}, 'name': 'Scenario analysis tool (covidsim.org)', 'species': 'Homo sapiens', 'infectiousAgent': 'SARS-CoV-2', 'infectiousDisease': 'COVID-19', 'description': 'This scenario analysis tool allows the user to make projections of the prevalence of infections each day and the expected number of people requiring hospitalisation and critical care facilities.', 'identifier': 'icl_tsatatutmpotpoiedatenoprhaccf', '_id': 'icl_tsatatutmpotpoiedatenoprhaccf', 'url': 'https://covidsim.org/', 'datePublished': 'Not Available'} icl_tsatatutmpotpoiedatenoprhaccf\n"
     ]
    }
   ],
   "source": [
    "analysislisturl = 'http://www.imperial.ac.uk/mrc-global-infectious-disease-analysis/covid-19/covid-19-planning-tools/'\n",
    "analysisresponse = requests.get(analysislisturl)\n",
    "analysislisting = BeautifulSoup(analysisresponse.text, \"html.parser\")\n",
    "analysisclass = analysislisting.findAll(\"div\", {\"class\": \"media-item full light-secondary reverse equal-height\"})\n",
    "\n",
    "for eachblock in analysisclass[1:2]:\n",
    "    tmpdict = {\n",
    "      \"@context\": {\n",
    "        \"schema\": \"http://schema.org/\",\n",
    "        \"outbreak\": \"https://discovery.biothings.io/view/outbreak/\"\n",
    "      },\n",
    "      \"author\": {\n",
    "        \"@type\": \"Organization\",\n",
    "        \"name\": 'Imperial College COVID-19 Response Team',\n",
    "        \"affiliation\": [\"MRC Centre for Global Infectious Disease Analysis\",\n",
    "                        \"Imperial College London\"]\n",
    "      }\n",
    "    }\n",
    "    tmpdict['name'] = eachblock.find(\"h3\",{\"class\":\"title\"}).get_text()\n",
    "    tmpurl = eachblock.find(\"a\").get(\"href\") \n",
    "    tmpdict['species'] = \"Homo sapiens\"\n",
    "    tmpdict['infectiousAgent'] = \"SARS-CoV-2\"\n",
    "    tmpdict['infectiousDisease'] = \"COVID-19\"\n",
    "    tmpdict['description'] = eachblock.find(\"p\").get_text()\n",
    "    tmpdict['identifier'] = create_id(tmpdict['description'])\n",
    "    tmpdict['_id'] = tmpdict['identifier']\n",
    "    if \"http\" in tmpurl:\n",
    "        tmpdict['url'] = tmpurl\n",
    "    else:\n",
    "        tmpdict['url'] = baseurl+tmpurl\n",
    "    tmpdict['datePublished'] = 'Not Available'\n",
    "    print(tmpdict, tmpdict['identifier'])"
   ]
  },
  {
   "cell_type": "code",
   "execution_count": null,
   "metadata": {},
   "outputs": [],
   "source": []
  }
 ],
 "metadata": {
  "kernelspec": {
   "display_name": "Python 3",
   "language": "python",
   "name": "python3"
  },
  "language_info": {
   "codemirror_mode": {
    "name": "ipython",
    "version": 3
   },
   "file_extension": ".py",
   "mimetype": "text/x-python",
   "name": "python",
   "nbconvert_exporter": "python",
   "pygments_lexer": "ipython3",
   "version": "3.6.10"
  }
 },
 "nbformat": 4,
 "nbformat_minor": 2
}
